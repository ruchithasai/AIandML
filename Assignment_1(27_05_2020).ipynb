{
  "nbformat": 4,
  "nbformat_minor": 0,
  "metadata": {
    "colab": {
      "name": "Assignment 1(27-05-2020)",
      "provenance": []
    },
    "kernelspec": {
      "name": "python3",
      "display_name": "Python 3"
    }
  },
  "cells": [
    {
      "cell_type": "code",
      "metadata": {
        "id": "HkBoSzCyRmFZ",
        "colab_type": "code",
        "colab": {}
      },
      "source": [
        ""
      ],
      "execution_count": 0,
      "outputs": []
    },
    {
      "cell_type": "markdown",
      "metadata": {
        "id": "TMvXT67LSU4T",
        "colab_type": "text"
      },
      "source": [
        "#1. Generate the following pattern\n",
        "  \t*\n",
        "   \t*  *\n",
        "\t*  *  *\n",
        " \t*  *  *  *\n",
        " \t*  *  *  *  *\n"
      ]
    },
    {
      "cell_type": "code",
      "metadata": {
        "id": "VETxgPzSSbBE",
        "colab_type": "code",
        "colab": {
          "base_uri": "https://localhost:8080/",
          "height": 104
        },
        "outputId": "cc067cbe-3865-4735-82cf-a98bbb64f799"
      },
      "source": [
        "a = 5\n",
        "b = 1\n",
        "while a>0:\n",
        "  while b<=5:\n",
        "    print(\"*\"*b)\n",
        "    b = b+1\n",
        "    a = a-1\n"
      ],
      "execution_count": 1,
      "outputs": [
        {
          "output_type": "stream",
          "text": [
            "*\n",
            "**\n",
            "***\n",
            "****\n",
            "*****\n"
          ],
          "name": "stdout"
        }
      ]
    },
    {
      "cell_type": "markdown",
      "metadata": {
        "id": "BzqjqIW0TC8S",
        "colab_type": "text"
      },
      "source": [
        "2. Display multiplication table of K. Take k value from user\n",
        " \tEx:      7 x 1 =7\n",
        "    \t\t7 x 2 = 14   .....\n"
      ]
    },
    {
      "cell_type": "code",
      "metadata": {
        "id": "JMkNgui7TJT7",
        "colab_type": "code",
        "colab": {
          "base_uri": "https://localhost:8080/",
          "height": 243
        },
        "outputId": "2f05e98a-e84e-4ca0-ff18-f29f45aea364"
      },
      "source": [
        "a=int(input(\"enter number\"))\n",
        "x=1\n",
        "\n",
        "while(x<=12):\n",
        "  print(\"{}*{}={}\".format(a,x,a*x))\n",
        "  x+=1\n"
      ],
      "execution_count": 2,
      "outputs": [
        {
          "output_type": "stream",
          "text": [
            "enter number7\n",
            "7*1=7\n",
            "7*2=14\n",
            "7*3=21\n",
            "7*4=28\n",
            "7*5=35\n",
            "7*6=42\n",
            "7*7=49\n",
            "7*8=56\n",
            "7*9=63\n",
            "7*10=70\n",
            "7*11=77\n",
            "7*12=84\n"
          ],
          "name": "stdout"
        }
      ]
    },
    {
      "cell_type": "markdown",
      "metadata": {
        "id": "z7B1FqdfTv6W",
        "colab_type": "text"
      },
      "source": [
        "3. Roots of quadratic equation\n",
        "  \tTake the coefficients a,b,c from the user\n"
      ]
    },
    {
      "cell_type": "code",
      "metadata": {
        "id": "3x2TArANTXNH",
        "colab_type": "code",
        "colab": {
          "base_uri": "https://localhost:8080/",
          "height": 87
        },
        "outputId": "17941245-2e1a-44e7-c0ef-c6a0c0a2cc56"
      },
      "source": [
        "import cmath\n",
        "a = int(input(\"enter the value of 'a': \"))\n",
        "b = int(input(\"enter the value of 'b': \"))\n",
        "c = int(input(\"enter the value of 'c': \"))\n",
        "d = (b ** 2) - (4*a*c)\n",
        "sol1 = (-b-cmath.sqrt(d))/(2*a)\n",
        "sol2 = (-b+cmath.sqrt(d))/(2*a)\n",
        "print('The solution are {0} and {1}'.format(sol1,sol2))\n",
        "\n"
      ],
      "execution_count": 3,
      "outputs": [
        {
          "output_type": "stream",
          "text": [
            "enter the value of 'a': 2\n",
            "enter the value of 'b': 3\n",
            "enter the value of 'c': 1\n",
            "The solution are (-1+0j) and (-0.5+0j)\n"
          ],
          "name": "stdout"
        }
      ]
    },
    {
      "cell_type": "markdown",
      "metadata": {
        "id": "gEUqyK5WT6Rw",
        "colab_type": "text"
      },
      "source": [
        "4. Convert a decimal number to Binary\n"
      ]
    },
    {
      "cell_type": "code",
      "metadata": {
        "id": "Uu-GgVu8T1hy",
        "colab_type": "code",
        "colab": {
          "base_uri": "https://localhost:8080/",
          "height": 52
        },
        "outputId": "eea3133c-23c8-4dd2-83c3-042e1e423bba"
      },
      "source": [
        "number = int(input(\"Enter any decimal number: \"))\n",
        "print(\"Equivalent Binary Number: \", bin(number))\n",
        "\n"
      ],
      "execution_count": 4,
      "outputs": [
        {
          "output_type": "stream",
          "text": [
            "Enter any decimal number: 8\n",
            "Equivalent Binary Number:  0b1000\n"
          ],
          "name": "stdout"
        }
      ]
    },
    {
      "cell_type": "markdown",
      "metadata": {
        "id": "ZlH2SBVpUOkF",
        "colab_type": "text"
      },
      "source": [
        "5. Generate first N number of Fibonacci numbers. Take N value from the user\n"
      ]
    },
    {
      "cell_type": "code",
      "metadata": {
        "id": "gUtgwIRNUDd2",
        "colab_type": "code",
        "colab": {
          "base_uri": "https://localhost:8080/",
          "height": 52
        },
        "outputId": "c2a69d33-480d-4f16-fdb4-ddeaa225006e"
      },
      "source": [
        "n = int(input(\"enter the value of 'n': \"))\n",
        "a = 0\n",
        "b = 1\n",
        "sum = 0\n",
        "count = 1\n",
        "print(\"Fibonacci Series: \",end = \" \")\n",
        "while (count <= n):\n",
        "  print(sum, end = \" \")\n",
        "  count += 1\n",
        "  a = b\n",
        "  b = sum\n",
        "  sum = a + b \n",
        "\n"
      ],
      "execution_count": 5,
      "outputs": [
        {
          "output_type": "stream",
          "text": [
            "enter the value of 'n': 10\n",
            "Fibonacci Series:  0 1 1 2 3 5 8 13 21 34 "
          ],
          "name": "stdout"
        }
      ]
    }
  ]
}