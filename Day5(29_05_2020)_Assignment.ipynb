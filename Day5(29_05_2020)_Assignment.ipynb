{
  "nbformat": 4,
  "nbformat_minor": 0,
  "metadata": {
    "colab": {
      "name": "Day5(29-05-2020) Assignment",
      "provenance": [],
      "authorship_tag": "ABX9TyPuUCBBzmM8tKZjJd9AsTQS",
      "include_colab_link": true
    },
    "kernelspec": {
      "name": "python3",
      "display_name": "Python 3"
    }
  },
  "cells": [
    {
      "cell_type": "markdown",
      "metadata": {
        "id": "view-in-github",
        "colab_type": "text"
      },
      "source": [
        "<a href=\"https://colab.research.google.com/github/ruchithasai/AIandML/blob/master/Day5(29_05_2020)_Assignment.ipynb\" target=\"_parent\"><img src=\"https://colab.research.google.com/assets/colab-badge.svg\" alt=\"Open In Colab\"/></a>"
      ]
    },
    {
      "cell_type": "code",
      "metadata": {
        "id": "IHhJJD0hXNgD",
        "colab_type": "code",
        "colab": {
          "base_uri": "https://localhost:8080/",
          "height": 52
        },
        "outputId": "fe4d72f6-4f24-433d-aa4e-16530bb648eb"
      },
      "source": [
        "#Question 1:\n",
        "Create a function to find Factorial of a number using Recursion\n",
        "\n",
        "#1 answer\n",
        "def recur_factorial(n):  \n",
        "   if n == 1:  \n",
        "       return n  \n",
        "   else:  \n",
        "       return n*recur_factorial(n-1)  \n",
        "num = int(input(\"Enter a number: \"))  \n",
        "if num == 0:  \n",
        "   print(\"The factorial of 0 is 1\")  \n",
        "else:  \n",
        "   print(\"The factorial of\",num,\"is\",recur_factorial(num))\n"
      ],
      "execution_count": 1,
      "outputs": [
        {
          "output_type": "stream",
          "text": [
            "Enter a number: 4\n",
            "The factorial of 4 is 24\n"
          ],
          "name": "stdout"
        }
      ]
    },
    {
      "cell_type": "code",
      "metadata": {
        "id": "yrU5Q2KrXfGh",
        "colab_type": "code",
        "colab": {
          "base_uri": "https://localhost:8080/",
          "height": 139
        },
        "outputId": "fd937206-ee6c-4dd7-dd10-2db21d97a400"
      },
      "source": [
        "#Question 2:\n",
        "Create a function and display ‘n’ Fibonacci numbers using Recursion\n",
        "\n",
        "#2 answer\n",
        "def recur_fibo(n):  \n",
        "   if n <= 1:  \n",
        "       return n  \n",
        "   else:  \n",
        "       return(recur_fibo(n-1) + recur_fibo(n-2))  \n",
        " \n",
        "nterms = int(input(\"enter a value \"))  \n",
        "if nterms <= 0:  \n",
        "   print(\"enter a number\")  \n",
        "else:  \n",
        "   print(\"Fibonacci sequence:\")  \n",
        "   for i in range(nterms):  \n",
        "       print(recur_fibo(i))\n"
      ],
      "execution_count": 2,
      "outputs": [
        {
          "output_type": "stream",
          "text": [
            "enter a value 5\n",
            "Fibonacci sequence:\n",
            "0\n",
            "1\n",
            "1\n",
            "2\n",
            "3\n"
          ],
          "name": "stdout"
        }
      ]
    },
    {
      "cell_type": "code",
      "metadata": {
        "id": "DArQhyaZXt74",
        "colab_type": "code",
        "colab": {
          "base_uri": "https://localhost:8080/",
          "height": 35
        },
        "outputId": "ef3a03a3-61dd-4dc6-b482-fee561eaec4e"
      },
      "source": [
        "#Question 3:\n",
        "Print sum of list of elements without using sum() function\n",
        "\n",
        "#3 answer\n",
        "list1 = [10,20] \n",
        "sum = 0; \n",
        "for i in range(0,len(list1)):\n",
        "    sum=sum+list1[i] \n",
        "\n",
        "print(sum)\n"
      ],
      "execution_count": 3,
      "outputs": [
        {
          "output_type": "stream",
          "text": [
            "30\n"
          ],
          "name": "stdout"
        }
      ]
    },
    {
      "cell_type": "code",
      "metadata": {
        "id": "cwmsxu71X3fL",
        "colab_type": "code",
        "colab": {
          "base_uri": "https://localhost:8080/",
          "height": 35
        },
        "outputId": "bfdd5a79-ea83-4d73-97eb-dd86d788c48e"
      },
      "source": [
        "#Question 4:\n",
        "print only even numbers from the list\n",
        "\n",
        "#4 answer\n",
        "list1 = [11,23,45,23,64,22,11,24]\n",
        "for num in list1:\n",
        "    if num % 2 == 0:\n",
        "        print(num, end = \" \")\n"
      ],
      "execution_count": 4,
      "outputs": [
        {
          "output_type": "stream",
          "text": [
            "64 22 24 "
          ],
          "name": "stdout"
        }
      ]
    },
    {
      "cell_type": "code",
      "metadata": {
        "id": "oFl7sjuaX7iq",
        "colab_type": "code",
        "colab": {
          "base_uri": "https://localhost:8080/",
          "height": 52
        },
        "outputId": "a3779884-93f7-4669-b242-795e6ff8c3f2"
      },
      "source": [
        "Question 5:\n",
        "Write a Python program to get the smallest number from a list and display index of smallest element of the list\n",
        "\n",
        "#5 answer\n",
        "l1=[10,20,4,5,66,89,10001,1,79]\n",
        "s=l1[0]\n",
        "for i in range(0,len(l1)):\n",
        "    if l1[i]<s:\n",
        "        a=l1[i]\n",
        "        ind=i\n",
        "        \n",
        "        \n",
        "print(a)\n",
        "print(ind+1)\n"
      ],
      "execution_count": 5,
      "outputs": [
        {
          "output_type": "stream",
          "text": [
            "1\n",
            "8\n"
          ],
          "name": "stdout"
        }
      ]
    },
    {
      "cell_type": "code",
      "metadata": {
        "id": "poxXSJ6dX_b0",
        "colab_type": "code",
        "colab": {
          "base_uri": "https://localhost:8080/",
          "height": 35
        },
        "outputId": "ab6836d9-493c-4b98-9060-da67b553a36b"
      },
      "source": [
        "Question 6:\n",
        "Write a Python function that checks whether a passed string is palindrome or not.\n",
        "\n",
        "#6 answer\n",
        "def isPalindrome(string):\n",
        "    left_pos = 0\n",
        "    right_pos = len(string) - 1\n",
        "    while right_pos >= left_pos:\n",
        "        if not string[left_pos] == string[right_pos]:\n",
        "            return False\n",
        "        left_pos += 1\n",
        "        right_pos -= 1\n",
        "        return True\n",
        "print(isPalindrome('wow'))\n"
      ],
      "execution_count": 6,
      "outputs": [
        {
          "output_type": "stream",
          "text": [
            "True\n"
          ],
          "name": "stdout"
        }
      ]
    },
    {
      "cell_type": "code",
      "metadata": {
        "id": "kLfiViTJYGVe",
        "colab_type": "code",
        "colab": {
          "base_uri": "https://localhost:8080/",
          "height": 52
        },
        "outputId": "87c5145c-0795-496f-b656-40ad7f517220"
      },
      "source": [
        "#Question 7:\n",
        "Write a Python program to count the number of even and odd numbers from a series of numbers. \n",
        "Sample numbers : numbers = [1, 2, 3, 4, 5, 6, 7, 8, 9]\n",
        "Expected Output :\n",
        "Number of even numbers : 4\n",
        "Number of odd numbers : 5\n",
        "\n",
        "#7 answer\n",
        "numbers = (1, 2, 3, 4, 5, 6, 7, 8, 9) \n",
        "count_odd = 0\n",
        "count_even = 0\n",
        "for x in numbers:\n",
        "        if not x % 2:\n",
        "            count_even+=1\n",
        "        else:\n",
        "            count_odd+=1\n",
        "print(\"Number of even numbers :\",count_even)\n",
        "print(\"Number of odd numbers :\",count_odd)\n"
      ],
      "execution_count": 7,
      "outputs": [
        {
          "output_type": "stream",
          "text": [
            "Number of even numbers : 4\n",
            "Number of odd numbers : 5\n"
          ],
          "name": "stdout"
        }
      ]
    },
    {
      "cell_type": "code",
      "metadata": {
        "id": "qmDFLOtJYMeo",
        "colab_type": "code",
        "colab": {
          "base_uri": "https://localhost:8080/",
          "height": 104
        },
        "outputId": "419dc75b-6192-4bac-b495-68194bf75468"
      },
      "source": [
        "#Question 8:\n",
        "Write a Python program that prints all the numbers from 0 to 6 except 3 and 6.\n",
        "Note : Use 'continue' statement.\n",
        "Expected Output : 0 1 2 4 5\n",
        "\n",
        "#8 answer\n",
        "for x in range(0,7):\n",
        "  if x==3 or x==6:\n",
        "    continue\n",
        "  print(x)  "
      ],
      "execution_count": 11,
      "outputs": [
        {
          "output_type": "stream",
          "text": [
            "0\n",
            "1\n",
            "2\n",
            "4\n",
            "5\n"
          ],
          "name": "stdout"
        }
      ]
    },
    {
      "cell_type": "code",
      "metadata": {
        "id": "LPKJgHDIYOhJ",
        "colab_type": "code",
        "colab": {
          "base_uri": "https://localhost:8080/",
          "height": 52
        },
        "outputId": "2c94e77a-623a-42b5-eb95-72d715156f14"
      },
      "source": [
        "#Question 9:\n",
        "Write a python function to check whether the given number is prime or not\n",
        "\n",
        "#9 answer\n",
        "n = int(input(\"enter a number\"))\n",
        "c = 0\n",
        "for i in range (2,n+1):\n",
        "    if n%i == 0:\n",
        "        c = c+1\n",
        "\n",
        "if c == 1:\n",
        "    print(\"it is a prime number\")\n",
        "else:\n",
        "    print(\"not a prime number\")\n"
      ],
      "execution_count": 8,
      "outputs": [
        {
          "output_type": "stream",
          "text": [
            "enter a number3\n",
            "it is a prime number\n"
          ],
          "name": "stdout"
        }
      ]
    },
    {
      "cell_type": "code",
      "metadata": {
        "id": "EGZlPLQ1YSvu",
        "colab_type": "code",
        "colab": {
          "base_uri": "https://localhost:8080/",
          "height": 52
        },
        "outputId": "639df025-b5d6-4ab8-dc50-ac3da9dd55fe"
      },
      "source": [
        "#Question 10:\n",
        "Write a python function to check whether the given number is Adam number or not\n",
        "Example: \n",
        "Input : 12\n",
        "Output : Adam Number\n",
        "\n",
        "Explanation: 12*12 = 144\n",
        "Reverse of 12 is 21 → 21*21 =441\n",
        "Reverse of 144 == 441\n",
        "\n",
        "#10 answer\n",
        "def rev(n):\n",
        "    rev = 0\n",
        "    while n > 0:\n",
        "        rem = n%10\n",
        "        rev = rev*10+rem\n",
        "        n = n//10\n",
        "    return rev\n",
        "\n",
        "n = int(input(\"enter a number\"))\n",
        "s1 = n*n\n",
        "rev1 = rev(n)\n",
        "s2 = rev1*rev1\n",
        "if s1 == rev(s2):\n",
        "    print(\"Adam Number\")\n",
        "else:\n",
        "    print(\"Not a Adam Number\")\n"
      ],
      "execution_count": 10,
      "outputs": [
        {
          "output_type": "stream",
          "text": [
            "enter a number121\n",
            "Adam Number\n"
          ],
          "name": "stdout"
        }
      ]
    }
  ]
}