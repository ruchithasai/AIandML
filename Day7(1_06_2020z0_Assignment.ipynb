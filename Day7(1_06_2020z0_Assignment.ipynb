{
  "nbformat": 4,
  "nbformat_minor": 0,
  "metadata": {
    "colab": {
      "name": "Day7(1-06-2020z0 Assignment",
      "provenance": [],
      "authorship_tag": "ABX9TyMPOKB3vAyvHSkju7HF9Zcp",
      "include_colab_link": true
    },
    "kernelspec": {
      "name": "python3",
      "display_name": "Python 3"
    }
  },
  "cells": [
    {
      "cell_type": "markdown",
      "metadata": {
        "id": "view-in-github",
        "colab_type": "text"
      },
      "source": [
        "<a href=\"https://colab.research.google.com/github/ruchithasai/AIandML/blob/master/Day7(1_06_2020z0_Assignment.ipynb\" target=\"_parent\"><img src=\"https://colab.research.google.com/assets/colab-badge.svg\" alt=\"Open In Colab\"/></a>"
      ]
    },
    {
      "cell_type": "code",
      "metadata": {
        "id": "cKFuogcbeiPi",
        "colab_type": "code",
        "outputId": "4158fcca-db22-44ff-c6c8-ba92f27b214d",
        "colab": {
          "base_uri": "https://localhost:8080/",
          "height": 104
        }
      },
      "source": [
        "#project - Password Picker\n",
        "import random\n",
        "import string\n",
        "verb=[\"Eat\",\"Sleep\",\"Play\",\"Drive\",\"Act\",\"Save\",\"Lead\",\"Rise\",\"Own\",\"Wish\",\"Smell\",\"Need\"]\n",
        "noun=[\"actor\",\"dog\",\"dream\",\"doctor\",\"army\",\"coffee\",\"cat\",\"book\",\"chair\",\"bridge\",\"bird\",\"cave\"]\n",
        "while(str):\n",
        "  str = input(\"enter yes or no: \")\n",
        "  if(str == \"yes\"):\n",
        "    print(random.choice(verb)+random.choice(noun),end=\"\")\n",
        "    print(random.randint(0,100),end=\"\")\n",
        "    print(random.choice(string.punctuation))\n",
        "  else:\n",
        "    break"
      ],
      "execution_count": 0,
      "outputs": [
        {
          "output_type": "stream",
          "text": [
            "enter yes or no: yes\n",
            "Playbird17'\n",
            "enter yes or no: yes\n",
            "Needbird92*\n",
            "enter yes or no: no\n"
          ],
          "name": "stdout"
        }
      ]
    }
  ]
}