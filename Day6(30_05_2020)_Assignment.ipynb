{
  "nbformat": 4,
  "nbformat_minor": 0,
  "metadata": {
    "colab": {
      "name": "Day6(30-05-2020) Assignment",
      "provenance": [],
      "collapsed_sections": [],
      "authorship_tag": "ABX9TyMbxbEwIndwW4Kc99yIjW59",
      "include_colab_link": true
    },
    "kernelspec": {
      "name": "python3",
      "display_name": "Python 3"
    }
  },
  "cells": [
    {
      "cell_type": "markdown",
      "metadata": {
        "id": "view-in-github",
        "colab_type": "text"
      },
      "source": [
        "<a href=\"https://colab.research.google.com/github/ruchithasai/AIandML/blob/master/Day6(30_05_2020)_Assignment.ipynb\" target=\"_parent\"><img src=\"https://colab.research.google.com/assets/colab-badge.svg\" alt=\"Open In Colab\"/></a>"
      ]
    },
    {
      "cell_type": "code",
      "metadata": {
        "id": "5WaYbkpYXUP7",
        "colab_type": "code",
        "colab": {}
      },
      "source": [
        "f = open(\"test.txt\",\"w\")\n",
        "f.write('''Hello everyone this is for assignment purpose counting number of lines words letters''')\n",
        "f.close()"
      ],
      "execution_count": 0,
      "outputs": []
    },
    {
      "cell_type": "code",
      "metadata": {
        "id": "yr4_vSE9YtDh",
        "colab_type": "code",
        "colab": {}
      },
      "source": [
        "f = open(\"name.txt\",\"w\")\n",
        "f.write(\"this file is for using remove function\")\n",
        "f.close()"
      ],
      "execution_count": 0,
      "outputs": []
    },
    {
      "cell_type": "code",
      "metadata": {
        "id": "aDv5syipZAxL",
        "colab_type": "code",
        "outputId": "45af8fb5-a662-414f-d132-ca77bc2e874b",
        "colab": {
          "base_uri": "https://localhost:8080/",
          "height": 69
        }
      },
      "source": [
        "#Q1)Count the no.of words,no.of letters,no.of lines available in your file\n",
        "\n",
        "f=open(\"test.txt\",\"r\")\n",
        "data=f.read()\n",
        "words=data.split()\n",
        "l=data.split('\\n')\n",
        "print(\"words:\",len(words),\"\\nCharecters:\",len(data),\"\\nLines:\",len(l))\n"
      ],
      "execution_count": 0,
      "outputs": [
        {
          "output_type": "stream",
          "text": [
            "words: 13 \n",
            "Charecters: 84 \n",
            "Lines: 1\n"
          ],
          "name": "stdout"
        }
      ]
    },
    {
      "cell_type": "code",
      "metadata": {
        "id": "DnpXGfXnZiVh",
        "colab_type": "code",
        "colab": {}
      },
      "source": [
        "#Q2)Copy the content of one file to another\n",
        "\n",
        "f=open(\"test.txt\")\n",
        "f1=open(\"output.txt\",\"a\")#a is for appending \n",
        "for line in f.readlines():\n",
        "    f1.write(line)\n",
        "f1.close()\n",
        "f.close()\n"
      ],
      "execution_count": 0,
      "outputs": []
    },
    {
      "cell_type": "code",
      "metadata": {
        "id": "P8Fk4JSvZswy",
        "colab_type": "code",
        "outputId": "cb465a7f-f1c7-4adb-e16c-c24670208030",
        "colab": {
          "base_uri": "https://localhost:8080/",
          "height": 35
        }
      },
      "source": [
        "#Q3)Display the words starting with letter 'p'\n",
        "\n",
        "f=open(\"test.txt\",\"r\")\n",
        "data=f.read()\n",
        "c=0\n",
        "for i in data.split():\n",
        "    if i.startswith('p'):\n",
        "        c=c+1\n",
        "print(\"words starting with P:\",c) \n"
      ],
      "execution_count": 0,
      "outputs": [
        {
          "output_type": "stream",
          "text": [
            "words starting with P: 1\n"
          ],
          "name": "stdout"
        }
      ]
    },
    {
      "cell_type": "code",
      "metadata": {
        "id": "_26o4998aBUs",
        "colab_type": "code",
        "outputId": "0d819e57-d27e-454e-c444-b3ef2b512b3f",
        "colab": {
          "base_uri": "https://localhost:8080/",
          "height": 52
        }
      },
      "source": [
        "#Q4)Rename and remove files\n",
        "\n",
        "import os\n",
        "os.rename(\"test.txt\",\"tes1.txt\")\n",
        "print(\"File Renamed\")\n",
        "os.remove(\"name.txt\")\n",
        "print(\"File Removed!\")\n",
        "\n"
      ],
      "execution_count": 0,
      "outputs": [
        {
          "output_type": "stream",
          "text": [
            "File Renamed\n",
            "File Removed!\n"
          ],
          "name": "stdout"
        }
      ]
    },
    {
      "cell_type": "code",
      "metadata": {
        "id": "vPR6ME31ahuN",
        "colab_type": "code",
        "colab": {}
      },
      "source": [
        ""
      ],
      "execution_count": 0,
      "outputs": []
    }
  ]
}