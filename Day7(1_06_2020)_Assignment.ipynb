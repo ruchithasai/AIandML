{
  "nbformat": 4,
  "nbformat_minor": 0,
  "metadata": {
    "colab": {
      "name": "Day7(1-06-2020) Assignment",
      "provenance": [],
      "authorship_tag": "ABX9TyPYzXJHr8pL6yuq/+FQAUpB",
      "include_colab_link": true
    },
    "kernelspec": {
      "name": "python3",
      "display_name": "Python 3"
    }
  },
  "cells": [
    {
      "cell_type": "markdown",
      "metadata": {
        "id": "view-in-github",
        "colab_type": "text"
      },
      "source": [
        "<a href=\"https://colab.research.google.com/github/ruchithasai/AIandML/blob/master/Day7(1_06_2020)_Assignment.ipynb\" target=\"_parent\"><img src=\"https://colab.research.google.com/assets/colab-badge.svg\" alt=\"Open In Colab\"/></a>"
      ]
    },
    {
      "cell_type": "code",
      "metadata": {
        "id": "cKFuogcbeiPi",
        "colab_type": "code",
        "outputId": "4158fcca-db22-44ff-c6c8-ba92f27b214d",
        "colab": {
          "base_uri": "https://localhost:8080/",
          "height": 104
        }
      },
      "source": [
        "#project - Password Picker\n",
        "import random\n",
        "import string\n",
        "verb=[\"Eat\",\"Sleep\",\"Play\",\"Drive\",\"Act\",\"Save\",\"Lead\",\"Rise\",\"Own\",\"Wish\",\"Smell\",\"Need\"]\n",
        "noun=[\"actor\",\"dog\",\"dream\",\"doctor\",\"army\",\"coffee\",\"cat\",\"book\",\"chair\",\"bridge\",\"bird\",\"cave\"]\n",
        "while(str):\n",
        "  str = input(\"enter yes or no: \")\n",
        "  if(str == \"yes\"):\n",
        "    print(random.choice(verb)+random.choice(noun),end=\"\")\n",
        "    print(random.randint(0,100),end=\"\")\n",
        "    print(random.choice(string.punctuation))\n",
        "  else:\n",
        "    break"
      ],
      "execution_count": 0,
      "outputs": [
        {
          "output_type": "stream",
          "text": [
            "enter yes or no: yes\n",
            "Playbird17'\n",
            "enter yes or no: yes\n",
            "Needbird92*\n",
            "enter yes or no: no\n"
          ],
          "name": "stdout"
        }
      ]
    },
    {
      "cell_type": "code",
      "metadata": {
        "id": "aywI1E8sChcR",
        "colab_type": "code",
        "colab": {
          "base_uri": "https://localhost:8080/",
          "height": 35
        },
        "outputId": "ff9392df-2247-4dcc-c9c6-135c0251a4a0"
      },
      "source": [
        "#5 Question(30-05-2020) Create a folder\n",
        "n = input(\"Number of files: \")\n",
        "n = int(n)\n",
        "for i in range(n):\n",
        "  f = open(\"test\" +\".txt\",\"w\")\n",
        "  for i in range(512):\n",
        "    f.write(\"character\")"
      ],
      "execution_count": 11,
      "outputs": [
        {
          "output_type": "stream",
          "text": [
            "Number of files: 5\n"
          ],
          "name": "stdout"
        }
      ]
    },
    {
      "cell_type": "code",
      "metadata": {
        "id": "t_f1UzZ6DH95",
        "colab_type": "code",
        "colab": {}
      },
      "source": [
        ""
      ],
      "execution_count": 0,
      "outputs": []
    }
  ]
}