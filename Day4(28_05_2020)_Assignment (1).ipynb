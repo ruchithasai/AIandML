{
  "nbformat": 4,
  "nbformat_minor": 0,
  "metadata": {
    "colab": {
      "name": "Day4(28-05-2020)-Assignment",
      "provenance": []
    },
    "kernelspec": {
      "name": "python3",
      "display_name": "Python 3"
    }
  },
  "cells": [
    {
      "cell_type": "markdown",
      "metadata": {
        "id": "ff-2X8exWMSq",
        "colab_type": "text"
      },
      "source": [
        "1.Accept a string from the user and count no.of vowels,consonants and special characters"
      ]
    },
    {
      "cell_type": "code",
      "metadata": {
        "id": "CodoL_RZWmG5",
        "colab_type": "code",
        "colab": {
          "base_uri": "https://localhost:8080/",
          "height": 87
        },
        "outputId": "f32b42f5-b090-49c7-d59b-36e4d2da906b"
      },
      "source": [
        "str1 = input(\"Please Enter Your Own String : \")\n",
        "vowels = 0\n",
        "consonants = 0\n",
        "special = 0\n",
        "\n",
        "for i in str1:\n",
        "    if ( (i >= 'a' and i <= 'z') or (i >= 'A' and i <= 'Z') ):\n",
        "        if(i == 'a' or i == 'e' or i == 'i' or i == 'o' or i == 'u'or i == 'A' or i == 'E' or i == 'I' or i == 'O' or i == 'U'):\n",
        "            vowels = vowels + 1\n",
        "        else:\n",
        "            consonants = consonants + 1\n",
        "    else:\n",
        "        special = special + 1\n",
        " \n",
        "print(\"Total Number of Vowels in this String = \", vowels)\n",
        "print(\"Total Number of Consonants in this String = \", consonants)\n",
        "print(\"Total Number of special in this String = \", special)\n"
      ],
      "execution_count": 1,
      "outputs": [
        {
          "output_type": "stream",
          "text": [
            "Please Enter Your Own String : abde#$\n",
            "Total Number of Vowels in this String =  2\n",
            "Total Number of Consonants in this String =  2\n",
            "Total Number of special in this String =  2\n"
          ],
          "name": "stdout"
        }
      ]
    },
    {
      "cell_type": "markdown",
      "metadata": {
        "id": "XUznHZU-W1tr",
        "colab_type": "text"
      },
      "source": [
        "4. Read the input as two limits and Print the output as Palindrome count between the two limits"
      ]
    },
    {
      "cell_type": "code",
      "metadata": {
        "id": "hVtgLI-sWuUm",
        "colab_type": "code",
        "colab": {
          "base_uri": "https://localhost:8080/",
          "height": 69
        },
        "outputId": "f93491f3-1f38-47aa-bb1b-33c6183532e4"
      },
      "source": [
        "count = 0\n",
        "n = int(input(\"enter a value n:\"))\n",
        "m = int(input(\"enter a value m:\"))\n",
        "for i in range(n,m):\n",
        "    if str(i) == str(i)[::-1]:\n",
        "        count += 1\n",
        "print(count)\n"
      ],
      "execution_count": 3,
      "outputs": [
        {
          "output_type": "stream",
          "text": [
            "enter a value n:1\n",
            "enter a value m:10\n",
            "9\n"
          ],
          "name": "stdout"
        }
      ]
    },
    {
      "cell_type": "markdown",
      "metadata": {
        "id": "VCTgLLfOXXcG",
        "colab_type": "text"
      },
      "source": [
        " 5.Accept a number as an input and check whether the given number is palindrome or not\n",
        "•\tif it is a palindrome number print the number on the screen\n",
        "\n"
      ]
    },
    {
      "cell_type": "code",
      "metadata": {
        "id": "7I6p-dntXA5n",
        "colab_type": "code",
        "colab": {
          "base_uri": "https://localhost:8080/",
          "height": 52
        },
        "outputId": "79af7a45-7b23-4877-e385-1e5ebee6f278"
      },
      "source": [
        "n = int(input(\"enter a number\"))\n",
        "if str(n) == str(n)[::-1]:\n",
        "    print(\"the given string is palindrome\")\n",
        "else:\n",
        "    print(\"The given string is not palindrome\")\n"
      ],
      "execution_count": 4,
      "outputs": [
        {
          "output_type": "stream",
          "text": [
            "enter a number121\n",
            "the given string is palindrome\n"
          ],
          "name": "stdout"
        }
      ]
    },
    {
      "cell_type": "markdown",
      "metadata": {
        "id": "Ok1zwuu-XzYU",
        "colab_type": "text"
      },
      "source": [
        "8. Accept input as a string and display sum of digits as the output"
      ]
    },
    {
      "cell_type": "code",
      "metadata": {
        "id": "M0S1svEyXtt2",
        "colab_type": "code",
        "colab": {
          "base_uri": "https://localhost:8080/",
          "height": 52
        },
        "outputId": "13b6a925-b632-4d03-974d-ad7832bb9c96"
      },
      "source": [
        "score = float(input(\"Enter score between 0.0 and 1.0: \"))\n",
        "if score>1.0 or score<0.0 :\n",
        "\tprint(error)\n",
        "elif score>=0.9 :\n",
        "  \tprint('A')\n",
        "elif score>=0.8 :\n",
        "    print('B')\n",
        "elif score>=0.7 :\n",
        "    print('C')\n",
        "elif score>=0.6 :\n",
        "    print('D')\n",
        "else :\n",
        "    print('F')\n"
      ],
      "execution_count": 11,
      "outputs": [
        {
          "output_type": "stream",
          "text": [
            "Enter score between 0.0 and 1.0: 0.8\n",
            "B\n"
          ],
          "name": "stdout"
        }
      ]
    },
    {
      "cell_type": "markdown",
      "metadata": {
        "id": "KCkqanLq8ZVI",
        "colab_type": "text"
      },
      "source": [
        "2. count the no.of pairs of a in the given string(Infosys InfyTQ) string → \"abbaaccbbaaa\" output → 2\n",
        "\n"
      ]
    },
    {
      "cell_type": "code",
      "metadata": {
        "id": "6rQi6cMT8gY4",
        "colab_type": "code",
        "colab": {
          "base_uri": "https://localhost:8080/",
          "height": 52
        },
        "outputId": "0610f145-7267-4993-9d17-9e43dafd6aae"
      },
      "source": [
        "s = input(\"enter the string: \")\n",
        "print(s.count(\"aa\"))"
      ],
      "execution_count": 14,
      "outputs": [
        {
          "output_type": "stream",
          "text": [
            "enter the string: abaaccbaaa\n",
            "2\n"
          ],
          "name": "stdout"
        }
      ]
    },
    {
      "cell_type": "markdown",
      "metadata": {
        "id": "PGR43qyJYWHZ",
        "colab_type": "text"
      },
      "source": [
        "7. Accept input as a string and display sum of digits as the output"
      ]
    },
    {
      "cell_type": "code",
      "metadata": {
        "id": "OjNFAW0sYDTS",
        "colab_type": "code",
        "colab": {
          "base_uri": "https://localhost:8080/",
          "height": 35
        },
        "outputId": "6a6c079c-5ef3-4a71-e200-055311c3c43b"
      },
      "source": [
        "def sum_digits_string(str1):\n",
        "    sum_digit = 0\n",
        "    for x in str1:\n",
        "        if x.isdigit() == True:\n",
        "            z = int(x)\n",
        "            sum_digit = sum_digit + z\n",
        "\n",
        "    return sum_digit\n",
        "     \n",
        "print(sum_digits_string(\"Appli123cation456 \"))\n",
        "\n"
      ],
      "execution_count": 7,
      "outputs": [
        {
          "output_type": "stream",
          "text": [
            "21\n"
          ],
          "name": "stdout"
        }
      ]
    },
    {
      "cell_type": "markdown",
      "metadata": {
        "id": "DrrrbbKqZ6Xq",
        "colab_type": "text"
      },
      "source": [
        "9. Write a Python program which iterates the integers from 1 to 50. For multiples of three print \"Fizz\" instead of the number and for the multiples of five print \"Buzz\". For numbers which are multiples of both three and five print \"FizzBuzz\"."
      ]
    },
    {
      "cell_type": "code",
      "metadata": {
        "id": "mtOdu345Z3eN",
        "colab_type": "code",
        "colab": {
          "base_uri": "https://localhost:8080/",
          "height": 901
        },
        "outputId": "68302ffb-1055-48de-c843-1396a5598bca"
      },
      "source": [
        "for fizzbuzz in range(51):\n",
        "    if fizzbuzz % 3 == 0 and fizzbuzz % 5 == 0:\n",
        "        print(\"fizzbuzz\")\n",
        "        continue\n",
        "    elif fizzbuzz % 3 == 0:\n",
        "        print(\"fizz\")\n",
        "        continue\n",
        "    elif fizzbuzz % 5 == 0:\n",
        "        print(\"buzz\")\n",
        "        continue\n",
        "    print(fizzbuzz)"
      ],
      "execution_count": 9,
      "outputs": [
        {
          "output_type": "stream",
          "text": [
            "fizzbuzz\n",
            "1\n",
            "2\n",
            "fizz\n",
            "4\n",
            "buzz\n",
            "fizz\n",
            "7\n",
            "8\n",
            "fizz\n",
            "buzz\n",
            "11\n",
            "fizz\n",
            "13\n",
            "14\n",
            "fizzbuzz\n",
            "16\n",
            "17\n",
            "fizz\n",
            "19\n",
            "buzz\n",
            "fizz\n",
            "22\n",
            "23\n",
            "fizz\n",
            "buzz\n",
            "26\n",
            "fizz\n",
            "28\n",
            "29\n",
            "fizzbuzz\n",
            "31\n",
            "32\n",
            "fizz\n",
            "34\n",
            "buzz\n",
            "fizz\n",
            "37\n",
            "38\n",
            "fizz\n",
            "buzz\n",
            "41\n",
            "fizz\n",
            "43\n",
            "44\n",
            "fizzbuzz\n",
            "46\n",
            "47\n",
            "fizz\n",
            "49\n",
            "buzz\n"
          ],
          "name": "stdout"
        }
      ]
    },
    {
      "cell_type": "markdown",
      "metadata": {
        "id": "-_n39VhFaKmf",
        "colab_type": "text"
      },
      "source": [
        "10.Write a Python program to find the median of three values."
      ]
    },
    {
      "cell_type": "code",
      "metadata": {
        "id": "LvW4ytdRaLSa",
        "colab_type": "code",
        "colab": {
          "base_uri": "https://localhost:8080/",
          "height": 87
        },
        "outputId": "8854592f-03ef-465a-c599-57457ed3836c"
      },
      "source": [
        "a = float(input(\"Input first number: \"))\n",
        "b = float(input(\"Input second number: \"))\n",
        "c = float(input(\"Input third number: \"))\n",
        "if a > b:\n",
        "    if a < c:\n",
        "        median = a\n",
        "    elif b > c:\n",
        "        median = b\n",
        "    else:\n",
        "        median = c\n",
        "else:\n",
        "    if a > c:\n",
        "        median = a\n",
        "    elif b < c:\n",
        "        median = b\n",
        "    else:\n",
        "        median = c\n",
        "\n",
        "print(\"The median is\", median)\n"
      ],
      "execution_count": 10,
      "outputs": [
        {
          "output_type": "stream",
          "text": [
            "Input first number: 3\n",
            "Input second number: 5\n",
            "Input third number: 8\n",
            "The median is 5.0\n"
          ],
          "name": "stdout"
        }
      ]
    },
    {
      "cell_type": "markdown",
      "metadata": {
        "id": "oIUwmiUU9Rtq",
        "colab_type": "text"
      },
      "source": [
        "input:orange → output : puboif"
      ]
    },
    {
      "cell_type": "code",
      "metadata": {
        "id": "Yit9qtAVaPbs",
        "colab_type": "code",
        "colab": {
          "base_uri": "https://localhost:8080/",
          "height": 52
        },
        "outputId": "2ff0ee7f-9e1f-42e7-b1b0-049be16ea714"
      },
      "source": [
        "s=str(input('enter string: '))\n",
        "vowel=['a','e','i','o','u']\n",
        "for i in s:\n",
        "    if i in vowel:\n",
        "        print(chr(ord(i)+1),end='')\n",
        "    elif (ord(i)>65 and ord(i)<69) or(ord(i)>97 and ord(i)<101):\n",
        "        print('e',end='')\n",
        "    elif (ord(i)>69 and ord(i)<73) or(ord(i)>101 and ord(i)<105):\n",
        "        print('i',end='')\n",
        "    elif (ord(i)>73 and ord(i)<79) or(ord(i)>105 and ord(i)<111):\n",
        "        print('o',end='')    \n",
        "    elif (ord(i)>79 and ord(i)<85) or(ord(i)>111 and ord(i)<117):\n",
        "        print('u',end='')\n",
        "    elif (ord(i)>85 and ord(i)<90) or(odr(i)>117 and ord(i)<122):\n",
        "        print('a',end='')"
      ],
      "execution_count": 16,
      "outputs": [
        {
          "output_type": "stream",
          "text": [
            "enter string: orange\n",
            "puboif"
          ],
          "name": "stdout"
        }
      ]
    },
    {
      "cell_type": "markdown",
      "metadata": {
        "id": "Ae6uoTvd-AJw",
        "colab_type": "text"
      },
      "source": [
        "3.Test case1:\n",
        "    string →  \"((((()()()))))()\"\n",
        "    output →  8\n",
        "Test case2:\n",
        "    string →  \"((()))()\"\n",
        "    Output →  4"
      ]
    },
    {
      "cell_type": "code",
      "metadata": {
        "id": "Jeihu6J99aIa",
        "colab_type": "code",
        "colab": {
          "base_uri": "https://localhost:8080/",
          "height": 52
        },
        "outputId": "2cfb88ca-d4b5-41b4-d4e0-f6b0c8c88da9"
      },
      "source": [
        "str = input(\"Enter a string: \")\n",
        "a=\"(\"\n",
        "b=\")\"\n",
        "open,close=0,0\n",
        "for i in range(0, len(str)):\n",
        "    ch = str[i]\n",
        "    if(ch==a):\n",
        "        open+=1\n",
        "    elif(ch==b):\n",
        "        close+=1\n",
        "if(open==close):\n",
        "    print(close)\n",
        "else:\n",
        "    print(close)"
      ],
      "execution_count": 17,
      "outputs": [
        {
          "output_type": "stream",
          "text": [
            "Enter a string: ((((()()()))))()\n",
            "8\n"
          ],
          "name": "stdout"
        }
      ]
    },
    {
      "cell_type": "code",
      "metadata": {
        "id": "pR8Ubb1u-P8_",
        "colab_type": "code",
        "colab": {}
      },
      "source": [
        ""
      ],
      "execution_count": 0,
      "outputs": []
    }
  ]
}