{
  "nbformat": 4,
  "nbformat_minor": 0,
  "metadata": {
    "colab": {
      "name": "Day8(2-06-2020) Assignment",
      "provenance": [],
      "authorship_tag": "ABX9TyNsJPNms337U62ekHp7TogU",
      "include_colab_link": true
    },
    "kernelspec": {
      "name": "python3",
      "display_name": "Python 3"
    }
  },
  "cells": [
    {
      "cell_type": "markdown",
      "metadata": {
        "id": "view-in-github",
        "colab_type": "text"
      },
      "source": [
        "<a href=\"https://colab.research.google.com/github/ruchithasai/AIandML/blob/master/Day8(2_06_2020)_Assignment.ipynb\" target=\"_parent\"><img src=\"https://colab.research.google.com/assets/colab-badge.svg\" alt=\"Open In Colab\"/></a>"
      ]
    },
    {
      "cell_type": "code",
      "metadata": {
        "id": "TUReUro67N5R",
        "colab_type": "code",
        "colab": {
          "base_uri": "https://localhost:8080/",
          "height": 225
        },
        "outputId": "6cf295c7-6f0d-4294-e7c1-f3b50f622665"
      },
      "source": [
        "import random\n",
        "\n",
        "lives=9\n",
        "\n",
        "words = ['pizza','pasta','bread','olive','choco']\n",
        "\n",
        "secretword=random.choice(words)\n",
        "\n",
        "clue=list('?????')\n",
        "\n",
        "heart_symbol= u'\\u2764'\n",
        "\n",
        "guessed_word_correctly=False\n",
        "\n",
        "def update_clue(guessed_letter, secretword,clue):\n",
        "    index=0\n",
        "    while index < len(secretword):\n",
        "      if guessed_letter == secretword[index]:\n",
        "        clue[index]=guessed_letter\n",
        "      index=index+1\n",
        "        \n",
        "while lives>0: \n",
        "  print(clue)\n",
        "  print('Lives left:' + heart_symbol * lives)\n",
        "  guess = input('Guess a letter or the word:')\n",
        "    \n",
        "  if guess == secretword:\n",
        "    guessed_word_correctly= True \n",
        "    break\n",
        "  if guess in secretword:\n",
        "    update_clue(guess,secretword, clue)\n",
        "  else:\n",
        "    print('Incorrect. You lose a life.')\n",
        "    lives= lives-1\n",
        "          \n",
        "if guessed_word_correctly:\n",
        "  print('You guessed correctly! The secret word was ' + secretword)\n",
        "else:\n",
        "  print('You lost! The secret word was ' + secretword)"
      ],
      "execution_count": 4,
      "outputs": [
        {
          "output_type": "stream",
          "text": [
            "['?', '?', '?', '?', '?']\n",
            "Lives left:❤❤❤❤❤❤❤❤❤\n",
            "Guess a letter or the word:olive\n",
            "Incorrect. You lose a life.\n",
            "['?', '?', '?', '?', '?']\n",
            "Lives left:❤❤❤❤❤❤❤❤\n",
            "Guess a letter or the word:choco\n",
            "Incorrect. You lose a life.\n",
            "['?', '?', '?', '?', '?']\n",
            "Lives left:❤❤❤❤❤❤❤\n",
            "Guess a letter or the word:pasta\n",
            "You guessed correctly! The secret word was pasta\n"
          ],
          "name": "stdout"
        }
      ]
    }
  ]
}